{
 "cells": [
  {
   "cell_type": "code",
   "execution_count": null,
   "metadata": {
    "vscode": {
     "languageId": "plaintext"
    }
   },
   "outputs": [],
   "source": [
    "import numpy as np\n",
    "from PIL import Image\n",
    "import random\n",
    "from collections import deque\n",
    "\n",
    "# Constants\n",
    "RED_THRESHOLD = 200  # Threshold for red detection\n",
    "WHITE_BG = (255, 255, 255)\n",
    "\n",
    "def is_red(pixel):\n",
    "    r, g, b = pixel\n",
    "    return r > RED_THRESHOLD and g < 50 and b < 50\n",
    "\n",
    "def bfs_flood_fill(image, visited, start_x, start_y, new_color):\n",
    "    height, width = image.shape[:2]\n",
    "    queue = deque([(start_x, start_y)])\n",
    "    visited[start_x, start_y] = True\n",
    "    \n",
    "    directions = [(0, 1), (1, 0), (0, -1), (-1, 0)]\n",
    "    \n",
    "    while queue:\n",
    "        x, y = queue.popleft()\n",
    "        image[x, y] = new_color\n",
    "        \n",
    "        for dx, dy in directions:\n",
    "            nx, ny = x + dx, y + dy\n",
    "            if (0 <= nx < height and 0 <= ny < width and \n",
    "                not visited[nx, ny] and is_red(image[nx, ny])):\n",
    "                visited[nx, ny] = True\n",
    "                queue.append((nx, ny))\n",
    "\n",
    "def process_image(image_path):\n",
    "    # Load image\n",
    "    img = Image.open(image_path).convert('RGB')\n",
    "    img_array = np.array(img, dtype=np.uint8)\n",
    "    height, width = img_array.shape[:2]\n",
    "    \n",
    "    # Initialize visited array and output\n",
    "    visited = np.zeros((height, width), dtype=bool)\n",
    "    output = img_array.copy()\n",
    "    blob_count = 0\n",
    "    \n",
    "    # Scan for blobs\n",
    "    for x in range(height):\n",
    "        for y in range(width):\n",
    "            if is_red(output[x, y]) and not visited[x, y]:\n",
    "                # Generate random color (0-254 ensures not white or bright red)\n",
    "                new_color = (random.randint(0, 254), random.randint(0, 254), random.randint(0, 254))\n",
    "                bfs_flood_fill(output, visited, x, y, new_color)\n",
    "                blob_count += 1\n",
    "    \n",
    "    return Image.fromarray(output), blob_count\n",
    "\n",
    "\n",
    "from pathlib import Path\n",
    "HOME = Path.cwd()\n",
    "image_path = HOME / \"images\" / \"input\" / \"input_blobs.png\"\n",
    "output_path = HOME / \"images\" / \"output\" / \"colored_blobs_cpu_mvp.png\"\n",
    "result_img, blob_count = process_image(image_path)\n",
    "print(f\"Detected {blob_count} blobs\")\n",
    "result_img.save(output_path)"
   ]
  }
 ],
 "metadata": {
  "language_info": {
   "name": "python"
  }
 },
 "nbformat": 4,
 "nbformat_minor": 2
}
